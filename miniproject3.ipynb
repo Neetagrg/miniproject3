{
  "nbformat": 4,
  "nbformat_minor": 0,
  "metadata": {
    "colab": {
      "provenance": [],
      "authorship_tag": "ABX9TyO408S5FmiOyRgpwtUMHyuw",
      "include_colab_link": true
    },
    "kernelspec": {
      "name": "python3",
      "display_name": "Python 3"
    },
    "language_info": {
      "name": "python"
    }
  },
  "cells": [
    {
      "cell_type": "markdown",
      "metadata": {
        "id": "view-in-github",
        "colab_type": "text"
      },
      "source": [
        "<a href=\"https://colab.research.google.com/github/Neetagrg/miniproject3/blob/main/miniproject3.ipynb\" target=\"_parent\"><img src=\"https://colab.research.google.com/assets/colab-badge.svg\" alt=\"Open In Colab\"/></a>"
      ]
    },
    {
      "cell_type": "markdown",
      "source": [
        "# Install Dependencies"
      ],
      "metadata": {
        "id": "ma---yglLFbc"
      }
    },
    {
      "cell_type": "code",
      "execution_count": null,
      "metadata": {
        "id": "cN5LKWnGNrXi"
      },
      "outputs": [],
      "source": [
        "!pip install -q langchain langgraph pinecone-client sentence-transformers openai\n"
      ]
    },
    {
      "cell_type": "markdown",
      "source": [
        "# Import Libraries and Initialize Pinecone"
      ],
      "metadata": {
        "id": "FQj750DILL1h"
      }
    },
    {
      "cell_type": "code",
      "source": [
        "import os\n",
        "import pinecone\n",
        "from langchain.vectorstores import Pinecone\n",
        "from langchain.embeddings import OpenAIEmbeddings\n",
        "from langchain_community.embeddings import HuggingFaceEmbeddings\n",
        "from langchain.chains import RetrievalQA\n",
        "from langchain.llms import OpenAI\n",
        "from langchain.schema import Document\n"
      ],
      "metadata": {
        "id": "hlXbPrK5LBTd"
      },
      "execution_count": null,
      "outputs": []
    }
  ]
}